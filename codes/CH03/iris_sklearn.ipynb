{
 "metadata": {
  "language_info": {
   "codemirror_mode": {
    "name": "ipython",
    "version": 3
   },
   "file_extension": ".py",
   "mimetype": "text/x-python",
   "name": "python",
   "nbconvert_exporter": "python",
   "pygments_lexer": "ipython3",
   "version": "3.8.0"
  },
  "orig_nbformat": 2,
  "kernelspec": {
   "name": "python3",
   "display_name": "Python 3.8.0 64-bit",
   "metadata": {
    "interpreter": {
     "hash": "004de6046f1b3d314f33fdb43a2dc798b2646e5600efd8df5066c8b63a00ff6d"
    }
   }
  }
 },
 "nbformat": 4,
 "nbformat_minor": 2,
 "cells": [
  {
   "source": [
    "## Data Process"
   ],
   "cell_type": "markdown",
   "metadata": {}
  },
  {
   "cell_type": "code",
   "execution_count": 2,
   "metadata": {},
   "outputs": [],
   "source": [
    "import numpy as np\n",
    "import pandas as pd\n",
    "from matplotlib import pyplot as plt\n",
    "from sklearn.datasets import load_iris\n",
    "from sklearn.model_selection import train_test_split\n",
    "from sklearn.neighbors import KNeighborsClassifier"
   ]
  },
  {
   "cell_type": "code",
   "execution_count": 5,
   "metadata": {},
   "outputs": [],
   "source": [
    "iris = load_iris()\n",
    "X_train, X_test, y_train, y_test = train_test_split(iris.data, iris.target, test_size=0.2)"
   ]
  },
  {
   "cell_type": "code",
   "execution_count": 6,
   "metadata": {},
   "outputs": [
    {
     "output_type": "stream",
     "name": "stdout",
     "text": [
      "(120, 4)\n(30, 4)\n(120,)\n(30,)\n"
     ]
    }
   ],
   "source": [
    "print(X_train.shape)\n",
    "print(X_test.shape)\n",
    "print(y_train.shape)\n",
    "print(y_test.shape)"
   ]
  },
  {
   "source": [
    "## Train Model"
   ],
   "cell_type": "markdown",
   "metadata": {}
  },
  {
   "cell_type": "code",
   "execution_count": 8,
   "metadata": {},
   "outputs": [
    {
     "output_type": "execute_result",
     "data": {
      "text/plain": [
       "KNeighborsClassifier(algorithm='kd_tree')"
      ]
     },
     "metadata": {},
     "execution_count": 8
    }
   ],
   "source": [
    "clf = KNeighborsClassifier(n_neighbors=5, algorithm=\"kd_tree\")\n",
    "clf.fit(X_train, y_train)"
   ]
  },
  {
   "cell_type": "code",
   "execution_count": 12,
   "metadata": {},
   "outputs": [
    {
     "output_type": "execute_result",
     "data": {
      "text/plain": [
       "{'algorithm': 'kd_tree',\n",
       " 'leaf_size': 30,\n",
       " 'metric': 'minkowski',\n",
       " 'metric_params': None,\n",
       " 'n_jobs': None,\n",
       " 'n_neighbors': 5,\n",
       " 'p': 2,\n",
       " 'weights': 'uniform'}"
      ]
     },
     "metadata": {},
     "execution_count": 12
    }
   ],
   "source": [
    "clf.get_params()"
   ]
  },
  {
   "source": [
    "## Predict"
   ],
   "cell_type": "markdown",
   "metadata": {}
  },
  {
   "cell_type": "code",
   "execution_count": 20,
   "metadata": {},
   "outputs": [
    {
     "output_type": "execute_result",
     "data": {
      "text/plain": [
       "array([1, 0, 0, 0, 2, 1, 2, 1, 1, 2, 2, 1, 2, 1, 1, 0, 1, 1, 2, 0, 0, 2,\n",
       "       2, 0, 0, 2, 1, 0, 0, 0])"
      ]
     },
     "metadata": {},
     "execution_count": 20
    }
   ],
   "source": [
    "clf.predict(X_test)"
   ]
  },
  {
   "cell_type": "code",
   "execution_count": 21,
   "metadata": {},
   "outputs": [
    {
     "output_type": "execute_result",
     "data": {
      "text/plain": [
       "array([[0. , 1. , 0. ],\n",
       "       [1. , 0. , 0. ],\n",
       "       [1. , 0. , 0. ],\n",
       "       [1. , 0. , 0. ],\n",
       "       [0. , 0.4, 0.6],\n",
       "       [0. , 0.8, 0.2],\n",
       "       [0. , 0. , 1. ],\n",
       "       [0. , 1. , 0. ],\n",
       "       [0. , 1. , 0. ],\n",
       "       [0. , 0. , 1. ],\n",
       "       [0. , 0. , 1. ],\n",
       "       [0. , 1. , 0. ],\n",
       "       [0. , 0. , 1. ],\n",
       "       [0. , 0.8, 0.2],\n",
       "       [0. , 1. , 0. ],\n",
       "       [1. , 0. , 0. ],\n",
       "       [0. , 1. , 0. ],\n",
       "       [0. , 1. , 0. ],\n",
       "       [0. , 0. , 1. ],\n",
       "       [1. , 0. , 0. ],\n",
       "       [1. , 0. , 0. ],\n",
       "       [0. , 0. , 1. ],\n",
       "       [0. , 0. , 1. ],\n",
       "       [1. , 0. , 0. ],\n",
       "       [1. , 0. , 0. ],\n",
       "       [0. , 0. , 1. ],\n",
       "       [0. , 1. , 0. ],\n",
       "       [1. , 0. , 0. ],\n",
       "       [1. , 0. , 0. ],\n",
       "       [1. , 0. , 0. ]])"
      ]
     },
     "metadata": {},
     "execution_count": 21
    }
   ],
   "source": [
    "clf.predict_proba(X_test)"
   ]
  },
  {
   "cell_type": "code",
   "execution_count": 22,
   "metadata": {},
   "outputs": [
    {
     "output_type": "execute_result",
     "data": {
      "text/plain": [
       "1.0"
      ]
     },
     "metadata": {},
     "execution_count": 22
    }
   ],
   "source": [
    "clf.score(X_test, y_test)"
   ]
  },
  {
   "cell_type": "code",
   "execution_count": 23,
   "metadata": {},
   "outputs": [
    {
     "output_type": "execute_result",
     "data": {
      "text/plain": [
       "(array([[0.2       , 0.24494897, 0.34641016, 0.37416574, 0.41231056],\n",
       "        [0.2236068 , 0.3       , 0.31622777, 0.33166248, 0.34641016],\n",
       "        [0.2236068 , 0.3       , 0.3       , 0.31622777, 0.31622777],\n",
       "        [0.14142136, 0.24494897, 0.24494897, 0.3       , 0.33166248],\n",
       "        [0.24494897, 0.37416574, 0.38729833, 0.41231056, 0.47958315],\n",
       "        [0.42426407, 0.45825757, 0.46904158, 0.53851648, 0.57445626],\n",
       "        [0.48989795, 0.50990195, 0.50990195, 0.51961524, 0.64031242],\n",
       "        [0.31622777, 0.42426407, 0.42426407, 0.42426407, 0.47958315],\n",
       "        [0.17320508, 0.2236068 , 0.3       , 0.31622777, 0.31622777],\n",
       "        [0.53851648, 0.54772256, 0.66332496, 0.678233  , 0.7       ],\n",
       "        [0.55677644, 0.6       , 0.6164414 , 0.6244998 , 0.66332496],\n",
       "        [0.2236068 , 0.3       , 0.43588989, 0.45825757, 0.50990195],\n",
       "        [0.2236068 , 0.31622777, 0.31622777, 0.34641016, 0.38729833],\n",
       "        [0.26457513, 0.42426407, 0.45825757, 0.45825757, 0.46904158],\n",
       "        [0.17320508, 0.24494897, 0.26457513, 0.26457513, 0.3       ],\n",
       "        [0.28284271, 0.3       , 0.36055513, 0.36055513, 0.36055513],\n",
       "        [0.26457513, 0.28284271, 0.31622777, 0.34641016, 0.50990195],\n",
       "        [0.33166248, 0.34641016, 0.37416574, 0.41231056, 0.43588989],\n",
       "        [0.24494897, 0.3       , 0.55677644, 0.6164414 , 0.6244998 ],\n",
       "        [0.17320508, 0.17320508, 0.24494897, 0.24494897, 0.26457513],\n",
       "        [0.2236068 , 0.2236068 , 0.28284271, 0.3       , 0.3       ],\n",
       "        [0.34641016, 0.50990195, 0.51961524, 0.55677644, 0.70710678],\n",
       "        [0.1       , 0.3       , 0.42426407, 0.43588989, 0.46904158],\n",
       "        [0.37416574, 0.41231056, 0.41231056, 0.47958315, 0.5       ],\n",
       "        [0.1       , 0.17320508, 0.17320508, 0.17320508, 0.2       ],\n",
       "        [0.41231056, 0.81853528, 0.86023253, 1.0198039 , 1.12249722],\n",
       "        [0.3       , 0.36055513, 0.36055513, 0.37416574, 0.38729833],\n",
       "        [0.34641016, 0.47958315, 0.5       , 0.51961524, 0.58309519],\n",
       "        [0.1       , 0.17320508, 0.17320508, 0.17320508, 0.17320508],\n",
       "        [0.14142136, 0.3       , 0.3       , 0.36055513, 0.42426407]]),\n",
       " array([[113, 119,  44, 103,  47],\n",
       "        [ 38, 106, 115,  51,  75],\n",
       "        [ 55, 111, 115, 116,  67],\n",
       "        [  9,  31,  29, 102,  26],\n",
       "        [ 72,  49,   5,  40,  76],\n",
       "        [ 28,   2, 113,  82,  47],\n",
       "        [ 84,  35,  89,   1, 110],\n",
       "        [103, 114,  99,  88,  64],\n",
       "        [ 88, 114,  99,  56,  39],\n",
       "        [  3,  79,  46,  90,  32],\n",
       "        [107,  41,  57,  49,  63],\n",
       "        [119, 113,  44, 103,  40],\n",
       "        [ 16,  92,  37, 100, 108],\n",
       "        [  2, 113,  91,  83,  28],\n",
       "        [ 81,  99,  68,  39,   8],\n",
       "        [ 54,  26,  75,  17,  58],\n",
       "        [ 14,  83,  30,  60,  36],\n",
       "        [ 44,   8,  39,  88,   6],\n",
       "        [ 45, 109,  20,  50, 100],\n",
       "        [ 80, 102,  19,  38,  58],\n",
       "        [ 24,  19,  22,  73,  11],\n",
       "        [ 27,   3,  46,  90,  63],\n",
       "        [107, 108,  41,  49,  63],\n",
       "        [ 33,  31,   9,  23,  29],\n",
       "        [ 51, 106,  11,  12, 104],\n",
       "        [  0,  79,  69,  32,  27],\n",
       "        [114,  18,  88,  56,  44],\n",
       "        [ 67,  55, 115, 111,  12],\n",
       "        [ 80, 102,  58,  26,  75],\n",
       "        [ 67, 111,  55, 115, 118]], dtype=int64))"
      ]
     },
     "metadata": {},
     "execution_count": 23
    }
   ],
   "source": [
    "clf.kneighbors(X_test)"
   ]
  },
  {
   "cell_type": "code",
   "execution_count": null,
   "metadata": {},
   "outputs": [],
   "source": []
  }
 ]
}